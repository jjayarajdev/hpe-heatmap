{
  "cells": [
    {
      "cell_type": "markdown",
      "metadata": {},
      "source": [
        "# Data Audit and Exploratory Data Analysis\n",
        "\n",
        "This notebook provides comprehensive data profiling, quality assessment, and exploratory analysis for the HPE Resource Assignment System.\n",
        "\n",
        "## Objectives\n",
        "1. **Dataset Cards**: Overview statistics for each data source\n",
        "2. **Join Viability**: Analysis of relationships between datasets\n",
        "3. **Text Quality**: Language detection, length analysis, n-gram analysis\n",
        "4. **Label Distribution**: Class imbalance and long-tail analysis\n",
        "5. **Outlier Detection**: IQR and z-score based outlier identification\n"
      ]
    },
    {
      "cell_type": "code",
      "execution_count": null,
      "metadata": {},
      "outputs": [],
      "source": [
        "# Setup\n",
        "import sys\n",
        "sys.path.append('../')\n",
        "\n",
        "import pandas as pd\n",
        "import numpy as np\n",
        "import matplotlib.pyplot as plt\n",
        "import seaborn as sns\n",
        "import plotly.express as px\n",
        "import plotly.graph_objects as go\n",
        "from plotly.subplots import make_subplots\n",
        "import warnings\n",
        "warnings.filterwarnings('ignore')\n",
        "\n",
        "# Import our modules\n",
        "from src.io_loader import ExcelLoader, load_processed_data\n",
        "from src.eda import DataProfiler, FeatureDiscovery\n",
        "from src.utils import config, logger\n",
        "\n",
        "# Configure plotting\n",
        "plt.style.use('default')\n",
        "sns.set_palette(\"husl\")\n",
        "pd.set_option('display.max_columns', None)\n",
        "pd.set_option('display.max_rows', 100)\n",
        "\n",
        "print(\"✅ Setup complete\")\n"
      ]
    }
  ],
  "metadata": {
    "language_info": {
      "name": "python"
    }
  },
  "nbformat": 4,
  "nbformat_minor": 2
}
